{
 "cells": [
  {
   "cell_type": "markdown",
   "metadata": {},
   "source": [
    "# Consider you have a list of scores provided in a competition. Find out who the runner up is. "
   ]
  },
  {
   "cell_type": "code",
   "execution_count": 4,
   "metadata": {},
   "outputs": [
    {
     "name": "stdout",
     "output_type": "stream",
     "text": [
      "19\n"
     ]
    }
   ],
   "source": [
    "lst=[12,15,19,20,15,18]\n",
    "lst.sort(reverse=True)\n",
    "print(lst[1])"
   ]
  },
  {
   "cell_type": "markdown",
   "metadata": {},
   "source": [
    "Consider you are designing a text formatter in python. Do a left, right and center align \n",
    "with hyphens (-).  \n",
    "Left Align -  HelloWorld---------- \n",
    "Center Align - -----HelloWorld---- \n",
    "Right Align -   ----------HelloWorld "
   ]
  },
  {
   "cell_type": "code",
   "execution_count": 11,
   "metadata": {},
   "outputs": [
    {
     "name": "stdout",
     "output_type": "stream",
     "text": [
      "VIs--------\n",
      "----VIs----\n",
      "--------VIs"
     ]
    }
   ],
   "source": [
    "str=input(\"Enter the string\")\n",
    "#For left align\n",
    "for i in range(9):\n",
    "    if(i==0):\n",
    "        print(str,end=\"\")\n",
    "    else:\n",
    "        print(\"-\",end=\"\")\n",
    "#for central align\n",
    "print()\n",
    "for i in range(9):\n",
    "    if(i==9//2):\n",
    "        print(str,end=\"\")\n",
    "    else:\n",
    "        print(\"-\",end=\"\")\n",
    "print()\n",
    "# For right align\n",
    "for i in range(9):\n",
    "    if(i==8):\n",
    "        print(str,end=\"\")\n",
    "    else:\n",
    "        print(\"-\",end=\"\")\n"
   ]
  },
  {
   "cell_type": "markdown",
   "metadata": {},
   "source": [
    "# Find the average of three marks of a couple of students and you need to accept a \n",
    " user input of a student's name and for the given input name, calculate the average of the \n",
    "three marks of a student and print.  \n",
    "Input format: 3​\n",
    "Abinaya 67 68 69​\n",
    "Arjun 70 98 63​\n",
    "Prasanth 52 56 60​\n",
    "Prasanth "
   ]
  },
  {
   "cell_type": "code",
   "execution_count": 19,
   "metadata": {},
   "outputs": [
    {
     "name": "stdout",
     "output_type": "stream",
     "text": [
      "The average mark of Ach's  12\n"
     ]
    }
   ],
   "source": [
    "student=3\n",
    "dict={}\n",
    "for i in range(student):\n",
    "    studentName=input(\"Enter the name\")\n",
    "    sum=0\n",
    "    for i in range(student):\n",
    "        mark=int(input(\"Enter the marks\"))\n",
    "        sum=sum+mark\n",
    "    dict[studentName]=sum//3\n",
    "name=input(\"Enter the student name\")\n",
    "print(\"The average mark of {}'s \".format(name),dict[name])\n",
    "        "
   ]
  },
  {
   "cell_type": "markdown",
   "metadata": {},
   "source": [
    "split a string with space and join the string with hyphen. \n",
    "\"Hello World\" => \"Hello-World\" "
   ]
  },
  {
   "cell_type": "code",
   "execution_count": 23,
   "metadata": {},
   "outputs": [
    {
     "name": "stdout",
     "output_type": "stream",
     "text": [
      "Vishvesh-Pratap-Singh\n"
     ]
    }
   ],
   "source": [
    "str=input(\"Enter the string\")\n",
    "str=str.strip()\n",
    "str=str.replace(' ',\"-\")\n",
    "print(str)"
   ]
  },
  {
   "cell_type": "markdown",
   "metadata": {},
   "source": [
    "Print a pattern like: \n",
    "----c----​\n",
    "--c-b-c--​\n",
    "c-b-a-b-c​\n",
    "--c-b-c--​\n",
    "----c---- \n",
    "for n = 3 \n",
    "--------e--------​\n",
    "------e-d-e------​\n",
    "----e-d-c-d-e----​\n",
    "--e-d-c-b-c-d-e--​\n",
    "e-d-c-b-a-b-c-d-e​\n",
    "--e-d-c-b-c-d-e--​\n",
    "----e-d-c-d-e----​\n",
    "------e-d-e------​\n",
    "--------e-------- \n",
    "for n = 5 "
   ]
  },
  {
   "cell_type": "markdown",
   "metadata": {},
   "source": [
    "# 6 Consider you have a string \"dsfdfdhgkdhkdshfgksdhfksdfjsdhfksdfh\". Take an input \n",
    "for the number of characters to be printed in each line and based on that input, split the \n",
    "word with so many characters length.  "
   ]
  },
  {
   "cell_type": "code",
   "execution_count": 33,
   "metadata": {},
   "outputs": [
    {
     "name": "stdout",
     "output_type": "stream",
     "text": [
      "dsf\n",
      "dfd\n",
      "hgk\n",
      "dhk\n",
      "dsh\n",
      "fgk\n",
      "sdh\n",
      "fks\n",
      "dfj\n",
      "sdh\n",
      "fks\n",
      "dfh\n"
     ]
    }
   ],
   "source": [
    "str=\"dsfdfdhgkdhkdshfgksdhfksdfjsdhfksdfh\"\n",
    "arr=[]\n",
    "for i in range(0,len(str),3):\n",
    "    start=i\n",
    "    end=i+3\n",
    "    arr.append(str[start:end])\n",
    "for i in arr:\n",
    "    print(i)   "
   ]
  },
  {
   "cell_type": "markdown",
   "metadata": {},
   "source": [
    "Consider you have a string that is of length multiple of 3. Divide the string into parts \n",
    "of 3 and check unique characters In each substring and print them.  \n",
    "Example: S = \"AABCAAADA\" \n",
    "Substrings: S1 = AAB => AB \n",
    "        S2 = CAA => CA \n",
    "        S3 = ADA => AD \n",
    "Output: AB, CA, AD "
   ]
  },
  {
   "cell_type": "code",
   "execution_count": 44,
   "metadata": {},
   "outputs": [
    {
     "name": "stdout",
     "output_type": "stream",
     "text": [
      "AB\n",
      "CA\n",
      "AD\n",
      "CD\n"
     ]
    }
   ],
   "source": [
    "str=\"AABCAAADACDD\"\n",
    "arr=[]\n",
    "res=[]\n",
    "\n",
    "for i in range(0,len(str),3):\n",
    "    start=i\n",
    "    end=i+3\n",
    "    arr.append(str[start:end])\n",
    "for i in range(len(arr)):\n",
    "    str2=arr[i]\n",
    "    str1=str2[0]\n",
    "    for p in range(len(str2)):\n",
    "        if str2[p] not in str1:\n",
    "            str1=str1+str2[p]\n",
    "    print(str1)    "
   ]
  },
  {
   "cell_type": "markdown",
   "metadata": {},
   "source": [
    " Consider a number N. Find the sum of its digits and product of its digits. Then, find \n",
    "the LCM of the two (sum and product of the digits).  "
   ]
  },
  {
   "cell_type": "code",
   "execution_count": 54,
   "metadata": {},
   "outputs": [
    {
     "name": "stdout",
     "output_type": "stream",
     "text": [
      "30\n"
     ]
    }
   ],
   "source": [
    "from math import lcm\n",
    "num=input(\"Enter the number\")\n",
    "sum=0\n",
    "product=1\n",
    "for i in range(len(num)):\n",
    "    sum=sum+int(num[i]) \n",
    "    product=product*int(num[i]) \n",
    "print(lcm(sum,product))\n"
   ]
  },
  {
   "cell_type": "markdown",
   "metadata": {},
   "source": [
    "Given a number, find whether its digits are in non-decreasing order or not.  "
   ]
  },
  {
   "cell_type": "code",
   "execution_count": 55,
   "metadata": {},
   "outputs": [
    {
     "ename": "SyntaxError",
     "evalue": "invalid syntax. Maybe you meant '==' or ':=' instead of '='? (2937113705.py, line 3)",
     "output_type": "error",
     "traceback": [
      "\u001b[0;36m  Cell \u001b[0;32mIn[55], line 3\u001b[0;36m\u001b[0m\n\u001b[0;31m    strt=num[i]\u001b[0m\n\u001b[0m    ^\u001b[0m\n\u001b[0;31mSyntaxError\u001b[0m\u001b[0;31m:\u001b[0m invalid syntax. Maybe you meant '==' or ':=' instead of '='?\n"
     ]
    }
   ],
   "source": [
    "num=input(\"Enter the number\")\n",
    "for i in range(len(num)-1){\n",
    "    strt=num[i]\n",
    "    numb=num[i+1]\n",
    "    if(numb>strt):\n",
    "        print(\"false\")\n",
    "        break\n",
    "}"
   ]
  }
 ],
 "metadata": {
  "kernelspec": {
   "display_name": "Python 3",
   "language": "python",
   "name": "python3"
  },
  "language_info": {
   "codemirror_mode": {
    "name": "ipython",
    "version": 3
   },
   "file_extension": ".py",
   "mimetype": "text/x-python",
   "name": "python",
   "nbconvert_exporter": "python",
   "pygments_lexer": "ipython3",
   "version": "3.10.12"
  },
  "orig_nbformat": 4
 },
 "nbformat": 4,
 "nbformat_minor": 2
}
