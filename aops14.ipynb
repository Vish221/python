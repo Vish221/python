{
 "cells": [
  {
   "cell_type": "markdown",
   "metadata": {},
   "source": [
    "# Create a number list in python and multiply all numbers in the list and print the output.\n"
   ]
  },
  {
   "cell_type": "code",
   "execution_count": 20,
   "metadata": {},
   "outputs": [
    {
     "name": "stdout",
     "output_type": "stream",
     "text": [
      "810\n"
     ]
    }
   ],
   "source": [
    "lst = [1, 3, 5, 6, 9]\n",
    "product = 1\n",
    "for i in lst:\n",
    "    product = product * i\n",
    "print(product)"
   ]
  },
  {
   "cell_type": "markdown",
   "metadata": {},
   "source": [
    "# Create a list with positive and negative numbers and print the sum of the negative numbers and sum of positive numbers separately as output.\n"
   ]
  },
  {
   "cell_type": "code",
   "execution_count": 21,
   "metadata": {},
   "outputs": [
    {
     "name": "stdout",
     "output_type": "stream",
     "text": [
      "The sum of positive element is 239\n",
      "The sum of positive element is -281\n"
     ]
    }
   ],
   "source": [
    "lst = [1, 2, 3, 4, -2, 64, 19, 56, 12, -98, 78, -12, -9, -89, -71]\n",
    "positive_sum = 0\n",
    "negative_sum = 0\n",
    "for i in lst:\n",
    "    if i < 0:\n",
    "        negative_sum = negative_sum + i\n",
    "    else:\n",
    "        positive_sum = positive_sum + i\n",
    "print(\"The sum of positive element is {}\".format(positive_sum))\n",
    "print(\"The sum of positive element is {}\".format(negative_sum))"
   ]
  },
  {
   "cell_type": "markdown",
   "metadata": {},
   "source": [
    "# Create a list of numbers and find if a particular number is there in the list and if yes, print its index.\n"
   ]
  },
  {
   "cell_type": "code",
   "execution_count": 11,
   "metadata": {},
   "outputs": [
    {
     "name": "stdout",
     "output_type": "stream",
     "text": [
      "5\n"
     ]
    }
   ],
   "source": [
    "lst = [2, 32, 12, 23, 123, 21, 45, 78]\n",
    "n = int(input(\"Enter the number\"))\n",
    "if n in lst:\n",
    "    print(lst.index(n))"
   ]
  },
  {
   "cell_type": "markdown",
   "metadata": {},
   "source": [
    "# Create a list of 3 numbers. Say, [3,4,5]. Now, create a new list of all combination of numbers possible between these two numbers. Eg: for [3,4,5], it can be [345, 354, 435, 453, 534, 543].\n"
   ]
  },
  {
   "cell_type": "code",
   "execution_count": null,
   "metadata": {},
   "outputs": [
    {
     "data": {
      "text/plain": [
       "[345, 354, 435, 453, 534, 543]"
      ]
     },
     "execution_count": 14,
     "metadata": {},
     "output_type": "execute_result"
    }
   ],
   "source": [
    "lst = [3, 4, 5]\n",
    "answer = []\n",
    "for i in lst:\n",
    "    for j in lst:\n",
    "        for p in lst:\n",
    "            if (i != j) and (i != p) and (j != p):\n",
    "                answer.append(i * 100 + j * 10 + p * 1)\n",
    "answer"
   ]
  },
  {
   "cell_type": "markdown",
   "metadata": {},
   "source": [
    "# Create a list of elements which contains duplicate elements also and remove all the duplicates in the list.\n"
   ]
  },
  {
   "cell_type": "code",
   "execution_count": null,
   "metadata": {},
   "outputs": [
    {
     "name": "stdout",
     "output_type": "stream",
     "text": [
      "Original list :[25, 67, 898, 12, 121, 12, 25, 25, 67]\n",
      "After delete all duplicates :[25, 67, 898, 12, 121]\n"
     ]
    }
   ],
   "source": [
    "lst = [25, 67, 898, 12, 121, 12, 25, 25, 67]\n",
    "res = []\n",
    "for i in lst:\n",
    "    if i not in res:\n",
    "        res.append(i)\n",
    "print(\"Original list :{}\".format(lst))\n",
    "print(\"After delete all duplicates :{}\".format(res))"
   ]
  },
  {
   "cell_type": "markdown",
   "metadata": {},
   "source": [
    "# Consider you have a list of strings containing words in english language. Given an alphabet to search for, can you extract all those words that start with this alphabet from the list?\n"
   ]
  },
  {
   "cell_type": "code",
   "execution_count": null,
   "metadata": {},
   "outputs": [
    {
     "name": "stdout",
     "output_type": "stream",
     "text": [
      "Been\n",
      "Bank\n"
     ]
    }
   ],
   "source": [
    "dict = [\n",
    "    \"Alpha\",\n",
    "    \"Angle\",\n",
    "    \"Anger\",\n",
    "    \"Almond\",\n",
    "    \"Been\",\n",
    "    \"Bank\",\n",
    "    \"Car\",\n",
    "    \"Cat\",\n",
    "    \"Care\",\n",
    "    \"Dear\",\n",
    "    \"Deer\",\n",
    "]\n",
    "start = input(\"Please enter the alphabet\")\n",
    "for i in dict:\n",
    "    if i.startswith(start):\n",
    "        print(i)"
   ]
  },
  {
   "cell_type": "markdown",
   "metadata": {},
   "source": [
    "# Consider you have a list like, [\"March\", \"May\", \"April\", \"January\", \"February\"]. Sort this list according to the calendar. That is, the output should be [\"January\", \"February\", \"March\", \"April\", \"May\"]. (Hint: When you find that this kind of sorting is tough or impossible to do, try to map the entries to numbers that correspond to the months and try doing what you do).\n"
   ]
  },
  {
   "cell_type": "code",
   "execution_count": null,
   "metadata": {},
   "outputs": [
    {
     "name": "stdout",
     "output_type": "stream",
     "text": [
      "['January', 'February', 'March', 'April', 'May']\n"
     ]
    }
   ],
   "source": [
    "lst = [\n",
    "    \"January\",\n",
    "    \"February\",\n",
    "    \"March\",\n",
    "    \"April\",\n",
    "    \"May\",\n",
    "    \"June\",\n",
    "    \"July\",\n",
    "    \"August\",\n",
    "    \"September\",\n",
    "    \"October\",\n",
    "    \"November\",\n",
    "    \"December\",\n",
    "]\n",
    "tst = [\"March\", \"May\", \"April\", \"January\", \"February\"]\n",
    "res = []\n",
    "for i in lst:\n",
    "    if i in tst:\n",
    "        res.append(i)\n",
    "print(res)"
   ]
  },
  {
   "cell_type": "markdown",
   "metadata": {},
   "source": [
    "# Consider, you have a list like [5,4,3,5,8,1,0,9]. Replace every element by its greatest neighbour. (Whichever number is greater than or equal to the current number, replace it with that. From the above example: [5,5,5,5,8,9,9,9] will be the answer because, both 4,3 are less than their neighbour 5 and both 1 and 0 are lesser than their neighbour 9.)\n"
   ]
  },
  {
   "cell_type": "code",
   "execution_count": 6,
   "metadata": {},
   "outputs": [
    {
     "name": "stdout",
     "output_type": "stream",
     "text": [
      "[5, 5, 5, 8, 8, 8, 9, 9]\n"
     ]
    }
   ],
   "source": [
    "lst = [5,4,3,5,8,1,0,9]\n",
    "\n",
    "for i in range(len(lst)-1):\n",
    "    if i == 0:\n",
    "        if lst[i + 1] > lst[i]:\n",
    "            lst[i]=lst[i+1]\n",
    "    elif lst[i] == len(lst) - 1:\n",
    "        if lst[i] < lst[i - 1]:\n",
    "            res.append(lst[i - 1])\n",
    "    else:\n",
    "        before = lst[i - 1]\n",
    "        after = lst[i + 1]\n",
    "        max_val = max(before, after)\n",
    "        lst[i]=max_val\n",
    "        \n",
    "print(lst)        "
   ]
  },
  {
   "cell_type": "markdown",
   "metadata": {},
   "source": [
    "# Create a list in python and get an input element from user which is available in this list. Now, split this list into two based on the number given by the user. All the numbers that are less than the input number should be in one list and the numbers that are greater than the input number should be in the other list."
   ]
  },
  {
   "cell_type": "code",
   "execution_count": 10,
   "metadata": {},
   "outputs": [
    {
     "name": "stdout",
     "output_type": "stream",
     "text": [
      "[1, 2, 9]\n",
      "[12, 26, 35, 38, 54, 55, 67, 87, 98]\n"
     ]
    }
   ],
   "source": [
    "lst=[1,2,38,55,98,26,87,67,54,12,35,9]\n",
    "num=int(input(\"Enter the number:\"))\n",
    "small_numbers=[]\n",
    "larger_numbers=[]\n",
    "for i in lst:\n",
    "    if(i>num):\n",
    "        larger_numbers.append(i)\n",
    "    elif(i<num):\n",
    "        small_numbers.append(i)\n",
    "print(small_numbers)\n",
    "larger_numbers.sort()\n",
    "print(larger_numbers)            "
   ]
  }
 ],
 "metadata": {
  "kernelspec": {
   "display_name": "Python 3",
   "language": "python",
   "name": "python3"
  },
  "language_info": {
   "codemirror_mode": {
    "name": "ipython",
    "version": 3
   },
   "file_extension": ".py",
   "mimetype": "text/x-python",
   "name": "python",
   "nbconvert_exporter": "python",
   "pygments_lexer": "ipython3",
   "version": "3.10.12"
  },
  "orig_nbformat": 4
 },
 "nbformat": 4,
 "nbformat_minor": 2
}
