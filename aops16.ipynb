{
 "cells": [
  {
   "cell_type": "markdown",
   "metadata": {},
   "source": [
    "Create a string with the first, middle and last character of a given string\n"
   ]
  },
  {
   "cell_type": "code",
   "execution_count": 3,
   "metadata": {},
   "outputs": [
    {
     "name": "stdout",
     "output_type": "stream",
     "text": [
      "C r s\n"
     ]
    }
   ],
   "source": [
    "str=input(\"Enter The String\")\n",
    "print(str[0],str[(len(str)-1)//2],str[len(str)-1])"
   ]
  },
  {
   "cell_type": "markdown",
   "metadata": {},
   "source": [
    "Given two strings, s1 and s2. Write a program to create a new string s3 made of the first char of s1, then the last char of s2, Next, the second char of s1 and second last char of s2, and so on. Any leftover chars go at the end of the result.\n"
   ]
  },
  {
   "cell_type": "code",
   "execution_count": 13,
   "metadata": {},
   "outputs": [
    {
     "name": "stdout",
     "output_type": "stream",
     "text": [
      "HVlilsoh vesh\n"
     ]
    }
   ],
   "source": [
    "str1=input(\"Enter the string\")\n",
    "str2=input(\"Enter the second string\")\n",
    "length=min(len(str1),len(str2))\n",
    "strres=\"\"\n",
    "for i in range(length):\n",
    "    strres=strres+str1[i]+str2[i]\n",
    "if(str2>str1):\n",
    "    strres=strres+str2[length:]\n",
    "elif(str1>str2):\n",
    "    strres=strres+str1[length:]\n",
    "print(strres)"
   ]
  },
  {
   "cell_type": "markdown",
   "metadata": {},
   "source": [
    "Calculate the sum and average of the digits present in a string eg: ghfh6.5hk7mbm8"
   ]
  },
  {
   "cell_type": "code",
   "execution_count": 18,
   "metadata": {},
   "outputs": [
    {
     "name": "stdout",
     "output_type": "stream",
     "text": [
      "26\n",
      "6.5\n"
     ]
    }
   ],
   "source": [
    "str=input(\"Enter the string\")\n",
    "sum=0\n",
    "count=0\n",
    "for i in str:\n",
    "    if(i.isdigit()):\n",
    "        sum=sum+int(i)\n",
    "        count=count+1\n",
    "print(sum)\n",
    "print(sum/count)        "
   ]
  }
 ],
 "metadata": {
  "kernelspec": {
   "display_name": "Python 3",
   "language": "python",
   "name": "python3"
  },
  "language_info": {
   "codemirror_mode": {
    "name": "ipython",
    "version": 3
   },
   "file_extension": ".py",
   "mimetype": "text/x-python",
   "name": "python",
   "nbconvert_exporter": "python",
   "pygments_lexer": "ipython3",
   "version": "3.10.12"
  },
  "orig_nbformat": 4
 },
 "nbformat": 4,
 "nbformat_minor": 2
}
