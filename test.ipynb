{
 "cells": [
  {
   "cell_type": "code",
   "execution_count": 2,
   "metadata": {},
   "outputs": [
    {
     "name": "stdout",
     "output_type": "stream",
     "text": [
      "79765435   \n",
      "   35   \n",
      "   25   \n",
      "   19   \n",
      "   12   \n",
      "\n",
      "\n",
      "\n",
      "79       35\n",
      " 54     19 \n",
      "  35   17  \n",
      "   25 51   \n",
      "    87    \n"
     ]
    }
   ],
   "source": [
    "# Question_1\n",
    "# arr length should be even\n",
    "arr = [79, 35, 54, 19, 35, 12, 25, 76]\n",
    "arr = sorted(arr, reverse=True)\n",
    "start = 0\n",
    "end = len(arr) - 2\n",
    "index = 0\n",
    "for p in range(len(arr) // 2 + 1):\n",
    "    for i in range(len(arr) - 1):\n",
    "        if (start >= end):\n",
    "            start = len(arr) / 2 - 1\n",
    "            end = len(arr) / 2 - 1\n",
    "        if (i == start or i == end):\n",
    "            print(arr[index],end=\"\")\n",
    "            index += 1\n",
    "        else:\n",
    "            print(\" \", end=\"\")\n",
    "        start += 1\n",
    "        end -= 1\n",
    "    print(\"\")\n",
    "print()\n",
    "print()\n",
    "print()\n",
    "# Question_2\n",
    "# arr length should be odd\n",
    "arr = [79, 35, 54, 19, 35, 17, 25, 51, 87]\n",
    "start = 0\n",
    "end = len(arr) - 1\n",
    "index = 0\n",
    "for i in range(int(len(arr) / 2) + 1):\n",
    "  for t in range(len(arr)):\n",
    "    if (t == start or t == end):\n",
    "      print(arr[index], end=\"\")\n",
    "      index += 1\n",
    "    else:\n",
    "      print(\" \", end=\"\")\n",
    "  start += 1\n",
    "  end -= 1\n",
    "\n",
    "  print(\"\")\n"
   ]
  }
 ],
 "metadata": {
  "kernelspec": {
   "display_name": "Python 3",
   "language": "python",
   "name": "python3"
  },
  "language_info": {
   "codemirror_mode": {
    "name": "ipython",
    "version": 3
   },
   "file_extension": ".py",
   "mimetype": "text/x-python",
   "name": "python",
   "nbconvert_exporter": "python",
   "pygments_lexer": "ipython3",
   "version": "3.10.12"
  },
  "orig_nbformat": 4
 },
 "nbformat": 4,
 "nbformat_minor": 2
}
